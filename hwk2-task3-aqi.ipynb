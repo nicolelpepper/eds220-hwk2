{
 "cells": [
  {
   "cell_type": "code",
   "execution_count": 1,
   "metadata": {
    "deletable": false,
    "editable": false
   },
   "outputs": [],
   "source": [
    "# Initialize Otter\n",
    "import otter\n",
    "grader = otter.Notebook(\"hwk2-task3-aqi.ipynb\")"
   ]
  },
  {
   "cell_type": "markdown",
   "metadata": {},
   "source": [
    "# Task 3: Visualizing AQI during the 2017 Thomas Fire in Santa Barbara County\n",
    "\n",
    "## Instructions \n",
    "\n",
    "- First, update the following cell to have a link to *your* Homework 2 GitHub repository:\n",
    "\n",
    "**UPDATE THIS LINK**\n",
    "https://github.com/nicolelpepper/eds220-hwk2.git\n",
    "\n",
    "\n",
    "- Review the [complete rubric for this task](https://docs.google.com/document/d/1x0BoU6IH4cnOR1-n7i9CYQ9wUC37yDpYlQ4j6rCfcsU/edit?tab=t.0) before starting.\n",
    "\n",
    "- **Meaningful commits should be made every time you finish a major step.** We'll check your repository and view the commit history.\n",
    "\n",
    "- **Every code cell should have a comment.** Err on the side of commenting too much for now. Comments should follow best practices.\n",
    "\n",
    "- **Do not update the top cell with the `otter` import**, this is used internally for grading.\n",
    "\n",
    "## About the data\n",
    "\n",
    "In this task you will use [Air Quality Index (AQI)](https://www.airnow.gov/aqi/aqi-basics/) data from the [US Environmental Protection Agency](https://www.epa.gov) to visualize the impact on the AQI of the 2017 [Thomas Fire](https://en.wikipedia.org/wiki/Thomas_Fire) in Santa Barbara County."
   ]
  },
  {
   "cell_type": "markdown",
   "metadata": {},
   "source": [
    "## COMPLETE WORKFLOW\n",
    "\n",
    "You will use the next code cell to complete the last exercise in the task. Leave it blank for now. "
   ]
  },
  {
   "cell_type": "code",
   "execution_count": null,
   "metadata": {},
   "outputs": [],
   "source": []
  },
  {
   "cell_type": "markdown",
   "metadata": {},
   "source": [
    "## 1\n",
    "\n",
    "a. Read the [Air Quality Index (AQI) Basics](https://www.airnow.gov/aqi/aqi-basics/) from the AirNow.gov portal."
   ]
  },
  {
   "cell_type": "markdown",
   "metadata": {},
   "source": [
    "b. Go to [EPA's website on Air Quality Data Collected at Outdoor Monitors Across the US](https://www.epa.gov/outdoor-air-quality-data). "
   ]
  },
  {
   "cell_type": "markdown",
   "metadata": {},
   "source": [
    "c. Under \"Donwload Data\", click on \"Pre-generated Data Files\"."
   ]
  },
  {
   "cell_type": "markdown",
   "metadata": {},
   "source": [
    "d. Read the \"About the data\" section."
   ]
  },
  {
   "cell_type": "markdown",
   "metadata": {},
   "source": [
    "## 2\n",
    "a. Back in the \"Pre-generated Data Files\" site, click on \"Tables of Daily AQI\".\n",
    "\n",
    "b. Copy the URL to the 2017 Daily AQI **by County** ZIP file `daily_aqi_by_county_2017.zip`\n",
    "\n",
    "Notice we'll be reding the data directly from its ZIP file link. This ZIP file contains a single CSV that has been compressed to save space. "
   ]
  },
  {
   "cell_type": "markdown",
   "metadata": {
    "deletable": false,
    "editable": false
   },
   "source": [
    "<!-- BEGIN QUESTION -->\n",
    "\n",
    "c. In the next code cell read in the data from the URL using the [`pd.read_csv`](https://pandas.pydata.org/docs/reference/api/pandas.read_csv.html) function with the `compression='zip'` parameter added and store it as `aqi_17`. \n",
    "\n",
    "d. In the same cell, read in the data for the 2018 Daily AQI by County ZIP file and store it as `aqi_18`."
   ]
  },
  {
   "cell_type": "code",
   "execution_count": 2,
   "metadata": {
    "tags": []
   },
   "outputs": [],
   "source": [
    "# Import libraries\n",
    "import pandas as pd \n",
    "import matplotlib.pyplot as plt\n",
    "import numpy as np\n",
    "\n",
    "# Read in data\n",
    "aqi_17 = pd.read_csv('https://aqs.epa.gov/aqsweb/airdata/daily_aqi_by_county_2017.zip', compression='zip')\n",
    "aqi_18 = pd.read_csv('https://aqs.epa.gov/aqsweb/airdata/daily_aqi_by_county_2018.zip', compression='zip')"
   ]
  },
  {
   "cell_type": "markdown",
   "metadata": {
    "deletable": false,
    "editable": false
   },
   "source": [
    "<!-- END QUESTION -->\n",
    "\n",
    "## 3\n",
    "a. and b. Use the next two code cells to look at the head of both data frames. Store your results in `aqi_17_head` and `aqi_18_head`. "
   ]
  },
  {
   "cell_type": "code",
   "execution_count": 3,
   "metadata": {
    "tags": []
   },
   "outputs": [],
   "source": [
    "# a.\n",
    "aqi_17_head = aqi_17.head()"
   ]
  },
  {
   "cell_type": "code",
   "execution_count": 4,
   "metadata": {
    "scrolled": true,
    "tags": []
   },
   "outputs": [],
   "source": [
    "# b.\n",
    "aqi_18_head = aqi_18.head()"
   ]
  },
  {
   "cell_type": "markdown",
   "metadata": {
    "deletable": false,
    "editable": false,
    "jp-MarkdownHeadingCollapsed": true
   },
   "source": [
    "<!-- BEGIN QUESTION -->\n",
    "\n",
    "c. Use this code cell to make some other preliminary data exploration of your choosing."
   ]
  },
  {
   "cell_type": "code",
   "execution_count": null,
   "metadata": {
    "deletable": false,
    "editable": false
   },
   "outputs": [],
   "source": []
  },
  {
   "cell_type": "code",
   "execution_count": 5,
   "metadata": {
    "tags": []
   },
   "outputs": [
    {
     "name": "stdout",
     "output_type": "stream",
     "text": [
      "Max AQI for 2017 = 3767\n",
      "Min AQI for 2017 = 0\n",
      "Mean AQI for 2017 = 43.34260911074323\n",
      "Max AQI for 2018 = 1051\n",
      "Min AQI for 2018 = 0\n",
      "Mean AQI for 2018 = 43.12642081449345\n",
      "Value counts for 2017: \n",
      " Good                              231850\n",
      "Hazardous                             71\n",
      "Moderate                           90277\n",
      "Unhealthy                            858\n",
      "Unhealthy for Sensitive Groups      3569\n",
      "Very Unhealthy                       176\n",
      "Name: Category, dtype: int64\n",
      "Value counts for 2018: \n",
      " Good                              231374\n",
      "Hazardous                             30\n",
      "Moderate                           90963\n",
      "Unhealthy                            946\n",
      "Unhealthy for Sensitive Groups      4084\n",
      "Very Unhealthy                       144\n",
      "Name: Category, dtype: int64\n",
      "State Name                   object\n",
      "county Name                  object\n",
      "State Code                    int64\n",
      "County Code                   int64\n",
      "Date                         object\n",
      "AQI                           int64\n",
      "Category                     object\n",
      "Defining Parameter           object\n",
      "Defining Site                object\n",
      "Number of Sites Reporting     int64\n",
      "dtype: object\n",
      "State Name                   object\n",
      "county Name                  object\n",
      "State Code                    int64\n",
      "County Code                   int64\n",
      "Date                         object\n",
      "AQI                           int64\n",
      "Category                     object\n",
      "Defining Parameter           object\n",
      "Defining Site                object\n",
      "Number of Sites Reporting     int64\n",
      "dtype: object\n"
     ]
    }
   ],
   "source": [
    "# Explore data types and observation values\n",
    "print(\"Max AQI for 2017 =\", aqi_17['AQI'].max())\n",
    "print(\"Min AQI for 2017 =\", aqi_17['AQI'].min())\n",
    "print(\"Mean AQI for 2017 =\", aqi_17['AQI'].mean())\n",
    "print(\"Max AQI for 2018 =\", aqi_18['AQI'].max())\n",
    "print(\"Min AQI for 2018 =\", aqi_18['AQI'].min())\n",
    "print(\"Mean AQI for 2018 =\", aqi_18['AQI'].mean())\n",
    "print(\"Value counts for 2017: \\n\", aqi_17.Category.value_counts().sort_index())\n",
    "print(\"Value counts for 2018: \\n\", aqi_18.Category.value_counts().sort_index())\n",
    "\n",
    "print(aqi_17.dtypes)\n",
    "print(aqi_18.dtypes)"
   ]
  },
  {
   "cell_type": "markdown",
   "metadata": {
    "deletable": false,
    "editable": false
   },
   "source": [
    "<!-- END QUESTION -->\n",
    "\n",
    "<!-- BEGIN QUESTION -->\n",
    "\n",
    "d. Use this markdown cell to explain why you decided to do the exploration in c. and what information you obtained from doing it."
   ]
  },
  {
   "cell_type": "markdown",
   "metadata": {
    "tags": []
   },
   "source": [
    "- I used `dtypes` to see the data types for the different columns.\n",
    "- I used `max` and `min` to find the max and min AQI values for the datasets. \n",
    "- I used `value_counts` to find the value counts of observations that fell in the different Category Ratings\n",
    "\n",
    "I found that the means were similar between the years but the max for 2017 was much higher. I also found that in 2017 there were more 'Hazardous'(71) category ratings than in 2018(30), which indicates that the presence of events in 2017 that contributed to low air quality."
   ]
  },
  {
   "cell_type": "markdown",
   "metadata": {
    "deletable": false,
    "editable": false
   },
   "source": []
  },
  {
   "cell_type": "markdown",
   "metadata": {
    "deletable": false,
    "editable": false
   },
   "source": [
    "<!-- END QUESTION -->\n",
    "\n",
    "<!-- BEGIN QUESTION -->\n",
    "\n",
    "## 4\n",
    "We currently have two separate data frames. For this exercise we will need to \"glue\" them one on top of the other. The `pandas` function `pd.concat()` can achieve this. \n",
    "\n",
    "Pass `[aqi_17, aqi_18]` as the input of `pd.concat()` and store the output as  `aqi`.  \n",
    "In the next line run `aqi`.\n",
    "\n",
    "NOTE: When we concatenate data frames like this, without any extra parameters for `pd.concat()` the indices for the two dataframes are just \"glued together\", the index of the resulting dataframe is not updated to start from 0. Notice the mismatch between the index of `aqi` and the number of rows i the complete data frame.\n"
   ]
  },
  {
   "cell_type": "code",
   "execution_count": 6,
   "metadata": {
    "tags": []
   },
   "outputs": [],
   "source": [
    "aqi = pd.concat([aqi_17, aqi_18])"
   ]
  },
  {
   "cell_type": "markdown",
   "metadata": {
    "deletable": false,
    "editable": false
   },
   "source": [
    "<!-- END QUESTION -->\n",
    "\n",
    "<!-- BEGIN QUESTION -->\n",
    "\n",
    "## 5\n",
    "\n",
    "Run the following code cell and use the next markdown cell to give a line by line explanation of the code below the comment \"#Simplify column names\". You might need to look up the `pandas` documentation."
   ]
  },
  {
   "cell_type": "code",
   "execution_count": 7,
   "metadata": {
    "deletable": false,
    "editable": false,
    "tags": []
   },
   "outputs": [
    {
     "name": "stdout",
     "output_type": "stream",
     "text": [
      "Index(['State Name', 'county Name', 'State Code', 'County Code', 'Date', 'AQI',\n",
      "       'Category', 'Defining Parameter', 'Defining Site',\n",
      "       'Number of Sites Reporting'],\n",
      "      dtype='object') \n",
      "\n",
      "Index(['state_name', 'county_name', 'state_code', 'county_code', 'date', 'aqi',\n",
      "       'category', 'defining_parameter', 'defining_site',\n",
      "       'number_of_sites_reporting'],\n",
      "      dtype='object') \n",
      "\n"
     ]
    }
   ],
   "source": [
    "# Initial column names: notice caps and spaces (difficult to work with!)\n",
    "print(aqi.columns, '\\n')\n",
    "\n",
    "# Simplify column names\n",
    "aqi.columns = (aqi.columns\n",
    "                  .str.lower()\n",
    "                  .str.replace(' ','_')\n",
    "                )\n",
    "print(aqi.columns, '\\n')"
   ]
  },
  {
   "cell_type": "markdown",
   "metadata": {},
   "source": [
    "#### Line by line explanation of above code\n",
    "\n",
    "- Initial column names: notice caps and spaces (difficult to work with!)\n",
    "print(aqi.columns, '\\n')               # Prints original column names and sets a new text line\n",
    "\n",
    "- Simplify column names\n",
    "aqi.columns = (aqi.columns               # Selects columns of the aqi dataframe\n",
    "                  .str.lower()           # Sets text in column names to be lowercase\n",
    "                  .str.replace(' ','_')  # Replaces spaces with underscore in column names\n",
    "\n",
    "                )\n",
    "- print(aqi.columns, '\\n')  # Prints updated column names and sets a new text line"
   ]
  },
  {
   "cell_type": "markdown",
   "metadata": {
    "deletable": false,
    "editable": false
   },
   "source": [
    "<!-- END QUESTION -->\n",
    "\n",
    "<!-- BEGIN QUESTION -->\n",
    "\n",
    "## 6\n",
    "In the next code cell:\n",
    "\n",
    "a. Select only data from `Santa Barbara` county and store it in a new variable `aqi_sb`.\n",
    "\n",
    "b. Remove the `state_name`, `county_name`, `state_code` and `county_code` columns from `aqi_sb`.\n",
    "\n",
    "Your dataframe should have the following columns in this order: `date`, `aqi`, `category`, `defining_parameter`, `defining_stie`, `number_of_sites_reporting`. "
   ]
  },
  {
   "cell_type": "code",
   "execution_count": 8,
   "metadata": {
    "tags": []
   },
   "outputs": [],
   "source": [
    "# part a\n",
    "aqi_sb = aqi[aqi['county_name'] == 'Santa Barbara']\n",
    "\n",
    "# part b\n",
    "aqi_sb = aqi_sb.drop(['state_name', 'county_name', 'state_code', 'county_code'], axis = 1)\n"
   ]
  },
  {
   "cell_type": "markdown",
   "metadata": {
    "deletable": false,
    "editable": false
   },
   "source": [
    "<!-- END QUESTION -->\n",
    "\n",
    " \n",
    "c. What is the data type of the `date` column? Store your answer in the `date_type` variable. Your answer should contain the type for the **date column only**. "
   ]
  },
  {
   "cell_type": "code",
   "execution_count": 9,
   "metadata": {
    "tags": []
   },
   "outputs": [],
   "source": [
    "date_type = type(aqi_sb.date)"
   ]
  },
  {
   "cell_type": "markdown",
   "metadata": {
    "deletable": false,
    "editable": false
   },
   "source": [
    "<!-- BEGIN QUESTION -->\n",
    "\n",
    "## 7\n",
    "In the following cell:\n",
    "1. Update the date column of `aqi_sb` to be a `pandas.datetime` object.\n",
    "2. Update the index of `aqi_sb` to be the `date` column."
   ]
  },
  {
   "cell_type": "code",
   "execution_count": 10,
   "metadata": {
    "tags": []
   },
   "outputs": [],
   "source": [
    "# part a\n",
    "aqi_sb.date = pd.to_datetime(aqi_sb.date)\n",
    "\n",
    "# part b\n",
    "aqi_sb = aqi_sb.set_index('date')"
   ]
  },
  {
   "cell_type": "markdown",
   "metadata": {
    "deletable": false,
    "editable": false
   },
   "source": [
    "<!-- END QUESTION -->\n",
    "\n",
    "## 8\n",
    "In the next cell we will calculate an average over a [rolling window](https://pandas.pydata.org/pandas-docs/stable/reference/api/pandas.Series.rolling.html) using the `rolling()`method for `pandas.Series`:\n",
    "\n",
    "- `rolling()` is a lazy method, so we need to specify what we want to calculate over each window before it does something. \n",
    "- in this example we use the aggregator function `mean()` to calculate the average over each window\n",
    "- the parameter '5D' indicates we want the window for our rolling average to be 5 days. \n",
    "- we get a `pandas.Series` as ouput\n",
    "\n",
    "Store your answer in the `rolling_average` variable. You should have two columns in your series, `date` and the averages. "
   ]
  },
  {
   "cell_type": "code",
   "execution_count": 11,
   "metadata": {
    "tags": []
   },
   "outputs": [
    {
     "data": {
      "text/plain": [
       "date\n",
       "2017-01-01    39.000000\n",
       "2017-01-02    39.000000\n",
       "2017-01-03    49.666667\n",
       "2017-01-04    45.750000\n",
       "2017-01-05    44.000000\n",
       "                ...    \n",
       "2018-12-27    41.200000\n",
       "2018-12-28    38.600000\n",
       "2018-12-29    38.200000\n",
       "2018-12-30    38.200000\n",
       "2018-12-31    38.800000\n",
       "Name: aqi, Length: 730, dtype: float64"
      ]
     },
     "execution_count": 11,
     "metadata": {},
     "output_type": "execute_result"
    }
   ],
   "source": [
    "# Calculate AQI rolling average over 5 days\n",
    "rolling_average = aqi_sb['aqi'].rolling(window = '5D').mean()\n",
    "rolling_average"
   ]
  },
  {
   "cell_type": "markdown",
   "metadata": {
    "deletable": false,
    "editable": false
   },
   "source": [
    "## 9 \n",
    "\n",
    "Without creating any new variables, add the mean of the AQI over a 5-day rolling window as a new column named `five_day_average` to the `aqi_sb` dataframe. "
   ]
  },
  {
   "cell_type": "code",
   "execution_count": 12,
   "metadata": {
    "tags": []
   },
   "outputs": [
    {
     "data": {
      "text/html": [
       "<div>\n",
       "<style scoped>\n",
       "    .dataframe tbody tr th:only-of-type {\n",
       "        vertical-align: middle;\n",
       "    }\n",
       "\n",
       "    .dataframe tbody tr th {\n",
       "        vertical-align: top;\n",
       "    }\n",
       "\n",
       "    .dataframe thead th {\n",
       "        text-align: right;\n",
       "    }\n",
       "</style>\n",
       "<table border=\"1\" class=\"dataframe\">\n",
       "  <thead>\n",
       "    <tr style=\"text-align: right;\">\n",
       "      <th></th>\n",
       "      <th>aqi</th>\n",
       "      <th>category</th>\n",
       "      <th>defining_parameter</th>\n",
       "      <th>defining_site</th>\n",
       "      <th>number_of_sites_reporting</th>\n",
       "      <th>five_day_average</th>\n",
       "    </tr>\n",
       "    <tr>\n",
       "      <th>date</th>\n",
       "      <th></th>\n",
       "      <th></th>\n",
       "      <th></th>\n",
       "      <th></th>\n",
       "      <th></th>\n",
       "      <th></th>\n",
       "    </tr>\n",
       "  </thead>\n",
       "  <tbody>\n",
       "    <tr>\n",
       "      <th>2017-01-01</th>\n",
       "      <td>39</td>\n",
       "      <td>Good</td>\n",
       "      <td>Ozone</td>\n",
       "      <td>06-083-4003</td>\n",
       "      <td>12</td>\n",
       "      <td>39.000000</td>\n",
       "    </tr>\n",
       "    <tr>\n",
       "      <th>2017-01-02</th>\n",
       "      <td>39</td>\n",
       "      <td>Good</td>\n",
       "      <td>PM2.5</td>\n",
       "      <td>06-083-2011</td>\n",
       "      <td>11</td>\n",
       "      <td>39.000000</td>\n",
       "    </tr>\n",
       "    <tr>\n",
       "      <th>2017-01-03</th>\n",
       "      <td>71</td>\n",
       "      <td>Moderate</td>\n",
       "      <td>PM10</td>\n",
       "      <td>06-083-4003</td>\n",
       "      <td>12</td>\n",
       "      <td>49.666667</td>\n",
       "    </tr>\n",
       "    <tr>\n",
       "      <th>2017-01-04</th>\n",
       "      <td>34</td>\n",
       "      <td>Good</td>\n",
       "      <td>Ozone</td>\n",
       "      <td>06-083-4003</td>\n",
       "      <td>13</td>\n",
       "      <td>45.750000</td>\n",
       "    </tr>\n",
       "    <tr>\n",
       "      <th>2017-01-05</th>\n",
       "      <td>37</td>\n",
       "      <td>Good</td>\n",
       "      <td>Ozone</td>\n",
       "      <td>06-083-4003</td>\n",
       "      <td>12</td>\n",
       "      <td>44.000000</td>\n",
       "    </tr>\n",
       "    <tr>\n",
       "      <th>...</th>\n",
       "      <td>...</td>\n",
       "      <td>...</td>\n",
       "      <td>...</td>\n",
       "      <td>...</td>\n",
       "      <td>...</td>\n",
       "      <td>...</td>\n",
       "    </tr>\n",
       "    <tr>\n",
       "      <th>2018-12-27</th>\n",
       "      <td>37</td>\n",
       "      <td>Good</td>\n",
       "      <td>Ozone</td>\n",
       "      <td>06-083-1025</td>\n",
       "      <td>11</td>\n",
       "      <td>41.200000</td>\n",
       "    </tr>\n",
       "    <tr>\n",
       "      <th>2018-12-28</th>\n",
       "      <td>39</td>\n",
       "      <td>Good</td>\n",
       "      <td>Ozone</td>\n",
       "      <td>06-083-1021</td>\n",
       "      <td>12</td>\n",
       "      <td>38.600000</td>\n",
       "    </tr>\n",
       "    <tr>\n",
       "      <th>2018-12-29</th>\n",
       "      <td>39</td>\n",
       "      <td>Good</td>\n",
       "      <td>Ozone</td>\n",
       "      <td>06-083-1021</td>\n",
       "      <td>12</td>\n",
       "      <td>38.200000</td>\n",
       "    </tr>\n",
       "    <tr>\n",
       "      <th>2018-12-30</th>\n",
       "      <td>41</td>\n",
       "      <td>Good</td>\n",
       "      <td>PM2.5</td>\n",
       "      <td>06-083-1008</td>\n",
       "      <td>12</td>\n",
       "      <td>38.200000</td>\n",
       "    </tr>\n",
       "    <tr>\n",
       "      <th>2018-12-31</th>\n",
       "      <td>38</td>\n",
       "      <td>Good</td>\n",
       "      <td>Ozone</td>\n",
       "      <td>06-083-2004</td>\n",
       "      <td>12</td>\n",
       "      <td>38.800000</td>\n",
       "    </tr>\n",
       "  </tbody>\n",
       "</table>\n",
       "<p>730 rows × 6 columns</p>\n",
       "</div>"
      ],
      "text/plain": [
       "            aqi  category defining_parameter defining_site  \\\n",
       "date                                                         \n",
       "2017-01-01   39      Good              Ozone   06-083-4003   \n",
       "2017-01-02   39      Good              PM2.5   06-083-2011   \n",
       "2017-01-03   71  Moderate               PM10   06-083-4003   \n",
       "2017-01-04   34      Good              Ozone   06-083-4003   \n",
       "2017-01-05   37      Good              Ozone   06-083-4003   \n",
       "...         ...       ...                ...           ...   \n",
       "2018-12-27   37      Good              Ozone   06-083-1025   \n",
       "2018-12-28   39      Good              Ozone   06-083-1021   \n",
       "2018-12-29   39      Good              Ozone   06-083-1021   \n",
       "2018-12-30   41      Good              PM2.5   06-083-1008   \n",
       "2018-12-31   38      Good              Ozone   06-083-2004   \n",
       "\n",
       "            number_of_sites_reporting  five_day_average  \n",
       "date                                                     \n",
       "2017-01-01                         12         39.000000  \n",
       "2017-01-02                         11         39.000000  \n",
       "2017-01-03                         12         49.666667  \n",
       "2017-01-04                         13         45.750000  \n",
       "2017-01-05                         12         44.000000  \n",
       "...                               ...               ...  \n",
       "2018-12-27                         11         41.200000  \n",
       "2018-12-28                         12         38.600000  \n",
       "2018-12-29                         12         38.200000  \n",
       "2018-12-30                         12         38.200000  \n",
       "2018-12-31                         12         38.800000  \n",
       "\n",
       "[730 rows x 6 columns]"
      ]
     },
     "execution_count": 12,
     "metadata": {},
     "output_type": "execute_result"
    }
   ],
   "source": [
    "aqi_sb[\"five_day_average\"] = rolling_average\n",
    "\n",
    "aqi_sb"
   ]
  },
  {
   "cell_type": "markdown",
   "metadata": {
    "deletable": false,
    "editable": false
   },
   "source": [
    "<!-- BEGIN QUESTION -->\n",
    "\n",
    "## 10\n",
    "Make a line plot showing both the daily AQI and the 5-day average (5-day average on top of the AQI). Make necessary updates for the plot to be accurate, informative, and polished, even if simple. You're welcome to use plotting methods and packages beyond what we have covered in class! \n",
    "\n",
    "Can you see the AQI going up during the Thomas Fire in December 2017?"
   ]
  },
  {
   "cell_type": "code",
   "execution_count": 13,
   "metadata": {
    "tags": []
   },
   "outputs": [
    {
     "data": {
      "image/png": "[encoded data removed]",
      "text/plain": [
       "<Figure size 640x480 with 1 Axes>"
      ]
     },
     "metadata": {},
     "output_type": "display_data"
    }
   ],
   "source": [
    "fire_start = pd.to_datetime('2017-12-04')\n",
    "fire_end = pd.to_datetime('2018-01-12')\n",
    "\n",
    "# Add span indicating Thomas Fire\n",
    "plt.axvspan(fire_start, fire_end, color='#A3210D', alpha = 0.1)\n",
    "plt.annotate('--- Thomas Fire', xy = (fire_end, 200), color='#A3210D', alpha = 0.6)\n",
    "\n",
    "# Plot AQI\n",
    "plt.plot(aqi_sb.index, aqi_sb.aqi, color='#80C4B4', label='Daily')\n",
    "plt.plot(aqi_sb.index, aqi_sb.five_day_average, color='#596964', label='5 Day Average')\n",
    "plt.title('Visualizing AQI during the 2017 Thomas Fire in Santa Barbara County', fontsize=14)\n",
    "\n",
    "# Plot Customization\n",
    "plt.legend()\n",
    "plt.xlabel('Date', fontsize=12)\n",
    "plt.ylabel('AQI', fontsize=12)\n",
    "plt.xticks(rotation=90)\n",
    "plt.show()"
   ]
  },
  {
   "cell_type": "code",
   "execution_count": null,
   "metadata": {
    "tags": []
   },
   "outputs": [],
   "source": []
  },
  {
   "cell_type": "markdown",
   "metadata": {
    "deletable": false,
    "editable": false
   },
   "source": [
    "## 10\n",
    "\n",
    "Collect all the relevant code into the first blank cell of the notebook titled \"COMPLETE WORKFLOW\". This single cell will have the end-to-end workflow: from importing libraries and loading the data, to producing the graph. The *only* ouput of this cell should be the graph you produced in the previous exercise. Further guidance on what to include in this final workflow is in the [assignment rubric](https://docs.google.com/document/d/1x0BoU6IH4cnOR1-n7i9CYQ9wUC37yDpYlQ4j6rCfcsU/edit?tab=t.0)."
   ]
  },
  {
   "cell_type": "markdown",
   "metadata": {},
   "source": []
  }
 ],
 "metadata": {
  "kernelspec": {
   "display_name": "Anaconda 3 (Base)",
   "language": "python",
   "name": "base"
  },
  "language_info": {
   "codemirror_mode": {
    "name": "ipython",
    "version": 3
   },
   "file_extension": ".py",
   "mimetype": "text/x-python",
   "name": "python",
   "nbconvert_exporter": "python",
   "pygments_lexer": "ipython3",
   "version": "3.9.13"
  },
  "vscode": {
   "interpreter": {
    "hash": "4d9c35c8115062f8f91024dabb290da02183a26877d6f60ace8c62884141c720"
   }
  }
 },
 "nbformat": 4,
 "nbformat_minor": 4
}
